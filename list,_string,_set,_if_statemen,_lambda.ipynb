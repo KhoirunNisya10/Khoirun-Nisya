{
  "nbformat": 4,
  "nbformat_minor": 0,
  "metadata": {
    "colab": {
      "provenance": []
    },
    "kernelspec": {
      "name": "python3",
      "display_name": "Python 3"
    },
    "language_info": {
      "name": "python"
    }
  },
  "cells": [
    {
      "cell_type": "markdown",
      "source": [
        "list \n",
        "list adalah jenis kumpulan data terurut (ordered sequence), dan merupakan salah satu variable yang sering digunakan pada phyton. serupa, namun tidak sama dengan array pada bahassa pemograman lainnya. bedanya, elemen list pada phyton tidak harus memiliki tipe data yang sama. list cukup mudah digunakan yaitu dengan menggunakan kurung siku dan elemen yang dipisahkan dengan koma.\n",
        "\n",
        "setiap data di dalamnya dapat diakses dengan indeks yang dimulai dari 0"
      ],
      "metadata": {
        "id": "Vfg867CwYAiZ"
      }
    },
    {
      "cell_type": "code",
      "source": [
        "#contoh list \n",
        "L1 = [1,4,2,13]\n",
        "print(type(L1))"
      ],
      "metadata": {
        "colab": {
          "base_uri": "https://localhost:8080/"
        },
        "id": "6Pj3Mf2saVRK",
        "outputId": "1a9af646-ed56-4baa-f714-0d6901570d89"
      },
      "execution_count": null,
      "outputs": [
        {
          "output_type": "stream",
          "name": "stdout",
          "text": [
            "<class 'list'>\n"
          ]
        }
      ]
    },
    {
      "cell_type": "code",
      "source": [
        "buatlah list kalian sendiri dengan tiga tipe data"
      ],
      "metadata": {
        "id": "j7NGKW2tcetg"
      },
      "execution_count": null,
      "outputs": []
    },
    {
      "cell_type": "code",
      "source": [
        "# menggunakan tipe data tang sama \n",
        "L1 = [1,4,2,13]\n",
        "L1"
      ],
      "metadata": {
        "colab": {
          "base_uri": "https://localhost:8080/"
        },
        "id": "JzJ4S1bocez0",
        "outputId": "31283c6a-9cce-4ff7-b9aa-cdfe1f2f9eea"
      },
      "execution_count": null,
      "outputs": [
        {
          "output_type": "execute_result",
          "data": {
            "text/plain": [
              "[1, 4, 2, 13]"
            ]
          },
          "metadata": {},
          "execution_count": 11
        }
      ]
    },
    {
      "cell_type": "code",
      "source": [
        "# menggunakan tipe data yang berbeda\n",
        "L2 = [\"a\", \"phyton\", 3, 2+1]\n",
        "L2"
      ],
      "metadata": {
        "colab": {
          "base_uri": "https://localhost:8080/"
        },
        "id": "GRJTfiGFc-qN",
        "outputId": "e139f57c-aebc-40a7-e22a-fa572cd51de5"
      },
      "execution_count": null,
      "outputs": [
        {
          "output_type": "execute_result",
          "data": {
            "text/plain": [
              "['a', 'phyton', 3, 3]"
            ]
          },
          "metadata": {},
          "execution_count": 12
        }
      ]
    },
    {
      "cell_type": "markdown",
      "source": [
        "menampilkan elemen dengan menggunakan fungsi print\n"
      ],
      "metadata": {
        "id": "07VE0RWndzEa"
      }
    },
    {
      "cell_type": "code",
      "source": [
        "matkul = [\"fuzy\", \"pdp\", \"metnum\", \"graph\"]\n",
        "print(matkul[2])\n",
        "print(matkul[2:])\n",
        "print(matkul[1:3])\n",
        "print(matkul[-2])\n",
        "print(matkul[-3:-1])"
      ],
      "metadata": {
        "colab": {
          "base_uri": "https://localhost:8080/"
        },
        "id": "zvOACWuyd6rJ",
        "outputId": "63f3748f-90f8-439a-dbfa-e1106a36e9e6"
      },
      "execution_count": null,
      "outputs": [
        {
          "output_type": "stream",
          "name": "stdout",
          "text": [
            "metnum\n",
            "['metnum', 'graph']\n",
            "['pdp', 'metnum']\n",
            "metnum\n",
            "['pdp', 'metnum']\n"
          ]
        }
      ]
    },
    {
      "cell_type": "code",
      "source": [
        "print(matkul[-3])\n"
      ],
      "metadata": {
        "colab": {
          "base_uri": "https://localhost:8080/"
        },
        "id": "zha-kSMdfxgy",
        "outputId": "1d4b4608-8232-4a4a-9e51-a65fcfc0ed0e"
      },
      "execution_count": null,
      "outputs": [
        {
          "output_type": "stream",
          "name": "stdout",
          "text": [
            "pdp\n"
          ]
        }
      ]
    },
    {
      "cell_type": "code",
      "source": [
        "#buatlah list kalian sendiri dengan tiga tipe data minimal enam elemen"
      ],
      "metadata": {
        "id": "kzZ3SHtzgV0e"
      },
      "execution_count": null,
      "outputs": []
    },
    {
      "cell_type": "markdown",
      "source": [
        "sifat-sifat list"
      ],
      "metadata": {
        "id": "0giLRdNtg90j"
      }
    },
    {
      "cell_type": "code",
      "source": [
        "L1=[1,4,2,13]\n",
        "L1"
      ],
      "metadata": {
        "colab": {
          "base_uri": "https://localhost:8080/"
        },
        "id": "YAX52NAFhFnP",
        "outputId": "9d5b7101-a2cb-44b1-f591-f85dbfa27572"
      },
      "execution_count": null,
      "outputs": [
        {
          "output_type": "execute_result",
          "data": {
            "text/plain": [
              "[1, 4, 2, 13]"
            ]
          },
          "metadata": {},
          "execution_count": 19
        }
      ]
    },
    {
      "cell_type": "code",
      "source": [
        "#terurut/ordered\n"
      ],
      "metadata": {
        "id": "vShkJvxIircC"
      },
      "execution_count": null,
      "outputs": []
    },
    {
      "cell_type": "code",
      "source": [
        "#buatlah list kalian sendiri dengan tiga tipe data minimal enam elemen "
      ],
      "metadata": {
        "id": "ww7G3bG1kGXE"
      },
      "execution_count": null,
      "outputs": []
    },
    {
      "cell_type": "code",
      "source": [
        "T2 = (\"desimal\",76.0, 3+10j, True,\"graph\")\n",
        "print(\"ini adalah tuple dua\", T2)"
      ],
      "metadata": {
        "colab": {
          "base_uri": "https://localhost:8080/"
        },
        "id": "oiJrZhi3kawc",
        "outputId": "ee3fc532-0955-456b-ba16-bbcd60a2db99"
      },
      "execution_count": null,
      "outputs": [
        {
          "output_type": "stream",
          "name": "stdout",
          "text": [
            "ini adalah tuple dua ('desimal', 76.0, (3+10j), True, 'graph')\n",
            "ini adalah tuple dua ('desimal', 76.0, (3+10j), True, 'graph')\n"
          ]
        }
      ]
    },
    {
      "cell_type": "code",
      "source": [
        "T2 = (\"desimal\",13,5, 4-50j, False,\"pdp\")\n",
        "print(\"ini adalah tuple dua\", T2)"
      ],
      "metadata": {
        "colab": {
          "base_uri": "https://localhost:8080/"
        },
        "id": "dL-sTE3SmgqV",
        "outputId": "a8a69147-fc2b-4418-fef8-fc2d1f6afcdd"
      },
      "execution_count": null,
      "outputs": [
        {
          "output_type": "stream",
          "name": "stdout",
          "text": [
            "ini adalah tuple dua ('desimal', 13, 5, (4-50j), False, 'pdp')\n"
          ]
        }
      ]
    },
    {
      "cell_type": "markdown",
      "source": [
        "srting \n",
        "string dideklrasikan dengan diapit dengan dua tanda petik\n"
      ],
      "metadata": {
        "id": "MM-nm1b6ofg2"
      }
    },
    {
      "cell_type": "code",
      "source": [
        "#menampilkan string denga fungsi print ()"
      ],
      "metadata": {
        "id": "CQKq2KjHpbVy"
      },
      "execution_count": null,
      "outputs": []
    },
    {
      "cell_type": "code",
      "source": [
        "#slicing pada string\n",
        "A = \"belajar struktur data string\" \n",
        "print(A[:5])\n",
        "print(A[3:])\n",
        "print(A[-5:])"
      ],
      "metadata": {
        "colab": {
          "base_uri": "https://localhost:8080/"
        },
        "id": "g3Nt9hZipoIC",
        "outputId": "e25e0e07-9387-4510-85ae-10f1ae8e83c1"
      },
      "execution_count": null,
      "outputs": [
        {
          "output_type": "stream",
          "name": "stdout",
          "text": [
            "belaj\n",
            "ajar struktur data string\n",
            "tring\n"
          ]
        }
      ]
    },
    {
      "cell_type": "code",
      "source": [
        "#slicing pada string\n",
        "A = \"belajar struktur data string\"\n",
        "print(A[1:])\n",
        "print(A[:27])"
      ],
      "metadata": {
        "colab": {
          "base_uri": "https://localhost:8080/"
        },
        "id": "0veJ9GKRqOe-",
        "outputId": "5b3e52cf-03d9-49d1-a66e-0f43690da160"
      },
      "execution_count": null,
      "outputs": [
        {
          "output_type": "stream",
          "name": "stdout",
          "text": [
            "elajar struktur data string\n",
            "belajar struktur data strin\n"
          ]
        }
      ]
    },
    {
      "cell_type": "markdown",
      "source": [
        "memodifikasi string\n"
      ],
      "metadata": {
        "id": "5LtJKNWQrXrV"
      }
    },
    {
      "cell_type": "code",
      "source": [
        "#upper()\n",
        "A.upper()"
      ],
      "metadata": {
        "colab": {
          "base_uri": "https://localhost:8080/",
          "height": 35
        },
        "id": "w2fzImfbrbPI",
        "outputId": "5fdab566-2a73-4967-b279-b2c48a852bfb"
      },
      "execution_count": null,
      "outputs": [
        {
          "output_type": "execute_result",
          "data": {
            "text/plain": [
              "'BELAJAR STRUKTUR DATA STRING'"
            ],
            "application/vnd.google.colaboratory.intrinsic+json": {
              "type": "string"
            }
          },
          "metadata": {},
          "execution_count": 7
        }
      ]
    },
    {
      "cell_type": "code",
      "source": [
        "#lower()\n",
        "A.lower()\n"
      ],
      "metadata": {
        "colab": {
          "base_uri": "https://localhost:8080/",
          "height": 35
        },
        "id": "S5bxylvMrjgt",
        "outputId": "27a7d415-6c91-481a-cc43-564ae59b74fc"
      },
      "execution_count": null,
      "outputs": [
        {
          "output_type": "execute_result",
          "data": {
            "text/plain": [
              "'belajar struktur data string'"
            ],
            "application/vnd.google.colaboratory.intrinsic+json": {
              "type": "string"
            }
          },
          "metadata": {},
          "execution_count": 8
        }
      ]
    },
    {
      "cell_type": "code",
      "source": [
        "#strip()\n",
        "z='rzl rdt P'\n",
        "z\n",
        "z.srtip('r')"
      ],
      "metadata": {
        "id": "S93-ZaYSr0L1"
      },
      "execution_count": null,
      "outputs": []
    },
    {
      "cell_type": "code",
      "source": [
        "#replace()\n",
        "A.replace('u','i')"
      ],
      "metadata": {
        "colab": {
          "base_uri": "https://localhost:8080/",
          "height": 35
        },
        "id": "gF_dCaC7si_f",
        "outputId": "5e12ce32-e0fe-41be-b8e3-7bcd3d40e41c"
      },
      "execution_count": null,
      "outputs": [
        {
          "output_type": "execute_result",
          "data": {
            "text/plain": [
              "'belajar striktir data string'"
            ],
            "application/vnd.google.colaboratory.intrinsic+json": {
              "type": "string"
            }
          },
          "metadata": {},
          "execution_count": 10
        }
      ]
    },
    {
      "cell_type": "code",
      "source": [
        "#split()\n",
        "A.split()\n"
      ],
      "metadata": {
        "colab": {
          "base_uri": "https://localhost:8080/"
        },
        "id": "KlEdEb2Ts9Sa",
        "outputId": "c36c971f-b9c2-44c7-f3d6-1258a11e8cad"
      },
      "execution_count": null,
      "outputs": [
        {
          "output_type": "execute_result",
          "data": {
            "text/plain": [
              "['belajar', 'struktur', 'data', 'string']"
            ]
          },
          "metadata": {},
          "execution_count": 11
        }
      ]
    },
    {
      "cell_type": "markdown",
      "source": [
        "menggabungkan string"
      ],
      "metadata": {
        "id": "uJtcXAwmtQPI"
      }
    },
    {
      "cell_type": "code",
      "source": [
        "A = \"belajar struktur data string\"\n",
        "B = \"pejuang data 3.0\"\n",
        "A + \" \" + B"
      ],
      "metadata": {
        "colab": {
          "base_uri": "https://localhost:8080/",
          "height": 35
        },
        "id": "r2S0wTM-tUxz",
        "outputId": "caaf3a18-4ca0-4370-b3aa-2ecb1468b1c9"
      },
      "execution_count": null,
      "outputs": [
        {
          "output_type": "execute_result",
          "data": {
            "text/plain": [
              "'belajar struktur data string pejuang data 3.0'"
            ],
            "application/vnd.google.colaboratory.intrinsic+json": {
              "type": "string"
            }
          },
          "metadata": {},
          "execution_count": 12
        }
      ]
    },
    {
      "cell_type": "markdown",
      "source": [
        "set kumpulan item yang bersifat unik dan tanpa urutan. didenifisikan dengan kurawal dan elemenya dipisahkan dengan koma. pada set kita dapat melakukan union dan intersection, sekaligus otomatis melakukan penghapusan. key itu di depan : kalo value di belakang :"
      ],
      "metadata": {
        "id": "d10FOk-7txqj"
      }
    },
    {
      "cell_type": "code",
      "source": [
        "#contoh set\n",
        "S1 = {1,\"dua\", True, 2+3j}"
      ],
      "metadata": {
        "id": "N2l526ZKuNJt"
      },
      "execution_count": null,
      "outputs": []
    },
    {
      "cell_type": "code",
      "source": [
        "#dapat diijinkan dipublikasi\n",
        "S1 = {1,\"dua\", \"dua\",2, 2+3j}\n",
        "print(\"duplikasi pada set S1:\",S1)"
      ],
      "metadata": {
        "colab": {
          "base_uri": "https://localhost:8080/"
        },
        "id": "Zr0bdOE-uxvI",
        "outputId": "f1324e53-bbac-49d7-99a8-2ed628dfd0da"
      },
      "execution_count": null,
      "outputs": [
        {
          "output_type": "stream",
          "name": "stdout",
          "text": [
            "duplikasi pada set S1: {'dua', 1, 2, (2+3j)}\n"
          ]
        }
      ]
    },
    {
      "cell_type": "markdown",
      "source": [
        "data set"
      ],
      "metadata": {
        "id": "CjpJ07Y_whL9"
      }
    },
    {
      "cell_type": "code",
      "source": [
        "ganjil={1,3,5,7,9}\n",
        "genap={2,4,6,8,10}\n",
        "prima={2,3,5,7}\n",
        "\n",
        "#union \n",
        "print(ganjil.union(genap))\n",
        "#intersection\n",
        "print(ganjil.intersection(prima))"
      ],
      "metadata": {
        "colab": {
          "base_uri": "https://localhost:8080/"
        },
        "id": "kNMxPQBuvf39",
        "outputId": "4257bf21-1978-4a89-9cb1-364afe2d63a3"
      },
      "execution_count": null,
      "outputs": [
        {
          "output_type": "stream",
          "name": "stdout",
          "text": [
            "{1, 2, 3, 4, 5, 6, 7, 8, 9, 10}\n",
            "{3, 5, 7}\n"
          ]
        }
      ]
    },
    {
      "cell_type": "markdown",
      "source": [
        "dictionary pada phyton adalah kumpulan \n"
      ],
      "metadata": {
        "id": "MxmSQhKjxBvN"
      }
    },
    {
      "cell_type": "code",
      "source": [
        "L2=[1,'dua',True,2+3j]\n",
        "L2"
      ],
      "metadata": {
        "colab": {
          "base_uri": "https://localhost:8080/"
        },
        "id": "0O7BgBAaxZJw",
        "outputId": "fd16d6dc-5174-4d44-f447-1bda4dc1d595"
      },
      "execution_count": null,
      "outputs": [
        {
          "output_type": "execute_result",
          "data": {
            "text/plain": [
              "[1, 'dua', True, (2+3j)]"
            ]
          },
          "metadata": {},
          "execution_count": 18
        }
      ]
    },
    {
      "cell_type": "code",
      "source": [
        "L1=[3, 'tiga',False,2000, 7.8]\n",
        "L1"
      ],
      "metadata": {
        "colab": {
          "base_uri": "https://localhost:8080/"
        },
        "id": "u_lzgdpfyiEB",
        "outputId": "c79faa01-f95a-434e-d243-5711a20e8497"
      },
      "execution_count": null,
      "outputs": [
        {
          "output_type": "execute_result",
          "data": {
            "text/plain": [
              "[3, 'tiga', False, 2000, 7.8]"
            ]
          },
          "metadata": {},
          "execution_count": 23
        }
      ]
    },
    {
      "cell_type": "code",
      "source": [
        "D2={10: 'genap',3+3j : 8, 5.5 : True, 'list':L1}\n",
        "print(D2)\n"
      ],
      "metadata": {
        "colab": {
          "base_uri": "https://localhost:8080/"
        },
        "id": "Dk3lMgjlxvQU",
        "outputId": "1e02a740-0f24-4400-d1bd-6638ca07f120"
      },
      "execution_count": null,
      "outputs": [
        {
          "output_type": "stream",
          "name": "stdout",
          "text": [
            "{10: 'genap', (3+3j): 8, 5.5: True}\n"
          ]
        }
      ]
    },
    {
      "cell_type": "code",
      "source": [
        "L2[2]"
      ],
      "metadata": {
        "colab": {
          "base_uri": "https://localhost:8080/"
        },
        "id": "ATmxAed5yReY",
        "outputId": "09632b12-704b-49de-db2a-0ef12e614de7"
      },
      "execution_count": null,
      "outputs": [
        {
          "output_type": "execute_result",
          "data": {
            "text/plain": [
              "True"
            ]
          },
          "metadata": {},
          "execution_count": 22
        }
      ]
    },
    {
      "cell_type": "code",
      "source": [
        "L1[2]"
      ],
      "metadata": {
        "colab": {
          "base_uri": "https://localhost:8080/"
        },
        "id": "i3FU-7ZwysaA",
        "outputId": "1f95c0b8-a93a-4d04-c135-303c93507824"
      },
      "execution_count": null,
      "outputs": [
        {
          "output_type": "execute_result",
          "data": {
            "text/plain": [
              "False"
            ]
          },
          "metadata": {},
          "execution_count": 24
        }
      ]
    },
    {
      "cell_type": "code",
      "source": [
        "#memanggil elemen berdasarkan key \n",
        "print(\"D2['key'] =\", D2[10]) ;"
      ],
      "metadata": {
        "colab": {
          "base_uri": "https://localhost:8080/"
        },
        "id": "Nx1-vG3dzZKP",
        "outputId": "be3ecc66-2e1b-4fdb-f6cf-678acf5fab6d"
      },
      "execution_count": null,
      "outputs": [
        {
          "output_type": "stream",
          "name": "stdout",
          "text": [
            "D2['key'] = genap\n"
          ]
        }
      ]
    },
    {
      "cell_type": "code",
      "source": [
        "#memanggil salah satu key dan value pada dictionary yang kalian buat"
      ],
      "metadata": {
        "id": "hUPRc7kU0lK6"
      },
      "execution_count": null,
      "outputs": []
    },
    {
      "cell_type": "code",
      "source": [
        "#memanggil elemen berdasarkan key\n",
        "print(\"D2[10]=\", D2[10])\n",
        "print(\"D2[3+3j]=\", D2[3+3j])\n",
        "print(\"D2[5.5]=\", D2[5.5])\n"
      ],
      "metadata": {
        "colab": {
          "base_uri": "https://localhost:8080/"
        },
        "id": "LcP5Ve1m0-Su",
        "outputId": "dfeb913b-29b1-4a8d-a6e1-8b63d0cb67c3"
      },
      "execution_count": null,
      "outputs": [
        {
          "output_type": "stream",
          "name": "stdout",
          "text": [
            "D2[10]= genap\n",
            "D2[3+3j]= 8\n",
            "D2[5.5]= True\n"
          ]
        }
      ]
    },
    {
      "cell_type": "markdown",
      "source": [
        "if statemen"
      ],
      "metadata": {
        "id": "OF0fdSClauEr"
      }
    },
    {
      "cell_type": "code",
      "source": [
        "angka = -2 \n",
        "if angka > 0:\n",
        "  print(angka, \"adalah bilangan positif.\")\n",
        "  print(angka, \"adalah bilangan negatif\")\n",
        "  "
      ],
      "metadata": {
        "id": "JurnCLqKaF7J"
      },
      "execution_count": null,
      "outputs": []
    },
    {
      "cell_type": "markdown",
      "source": [],
      "metadata": {
        "id": "XcEHnfjpaxHI"
      }
    },
    {
      "cell_type": "code",
      "source": [
        "if test expression :\n",
        "  body of if.\n",
        "else:\n",
        "    body of else"
      ],
      "metadata": {
        "id": "II4Iaimway8U"
      },
      "execution_count": null,
      "outputs": []
    },
    {
      "cell_type": "markdown",
      "source": [
        "phyton IF ELSE Statemen Flowchart"
      ],
      "metadata": {
        "id": "h8bqh6qhbCHY"
      }
    },
    {
      "cell_type": "code",
      "source": [
        "#program disusun untuk mengecek e\n",
        "angka = 3\n",
        "if angka >= 0:\n",
        "  print(\"bilangan lebih dari atau sanadengan 0\")\n",
        "else:\n",
        "    print(\"bilangan kurang dari 0\")"
      ],
      "metadata": {
        "colab": {
          "base_uri": "https://localhost:8080/"
        },
        "id": "Bj5jZI7PbMKL",
        "outputId": "5aea8c2c-b213-423b-83fb-6d3ddc040c83"
      },
      "execution_count": null,
      "outputs": [
        {
          "output_type": "stream",
          "name": "stdout",
          "text": [
            "bilangan lebih dari atau sanadengan 0\n"
          ]
        }
      ]
    },
    {
      "cell_type": "code",
      "source": [
        "angka = -7\n",
        "if angka >= 0:\n",
        "  print(\"bilangan lebih dari atau sanadengan 0\")\n",
        "else:\n",
        "    print(\"bilangan kurang dari 0\")"
      ],
      "metadata": {
        "colab": {
          "base_uri": "https://localhost:8080/"
        },
        "id": "eBZbnbGccHd4",
        "outputId": "f0ae9fae-7fa7-4af6-8d12-3b1ea1d5ea0e"
      },
      "execution_count": null,
      "outputs": [
        {
          "output_type": "stream",
          "name": "stdout",
          "text": [
            "bilangan kurang dari 0\n"
          ]
        }
      ]
    },
    {
      "cell_type": "code",
      "source": [
        "#program disusun untuk mengecek apakah dua buah angka itu sama atau tidak\n",
        "a=5\n",
        "b=5\n",
        "if a==b:\n",
        "  print(\"a dan b bernilai sama\")\n",
        "else:\n",
        "  print(\"a dan b bernilai berbeda\")"
      ],
      "metadata": {
        "colab": {
          "base_uri": "https://localhost:8080/"
        },
        "id": "SHF-N8pLcRoo",
        "outputId": "cd56fe03-79ac-47d3-aa08-5d50d3143fc7"
      },
      "execution_count": null,
      "outputs": [
        {
          "output_type": "stream",
          "name": "stdout",
          "text": [
            "a dan b bernilai sama\n"
          ]
        }
      ]
    },
    {
      "cell_type": "markdown",
      "source": [],
      "metadata": {
        "id": "0C_5xGCwdAa4"
      }
    },
    {
      "cell_type": "code",
      "source": [
        "#program disusun untuk mengecek apakah perbandingan dua angka \n",
        "#dan menampilkan tulisan yang sesuai\n",
        "#membaca dua angka\n",
        "bil1=int(input(\"masukkan bilangan pertama:\"))\n",
        "bil2=int(input(\"masukkan bilangan kedua\"))\n",
        "#memilih bilangan yang lebih besar\n",
        "if bil1 > bil2:\n",
        "  bil_lebih_besar = bil1\n",
        "else:\n",
        "  bil_lebih_besar = bil2\n",
        "#menampilkan hasil\n",
        "print(\"bilangan yang lebih besar adalah :\", bil_lebih_besar)"
      ],
      "metadata": {
        "colab": {
          "base_uri": "https://localhost:8080/"
        },
        "id": "FmdUUW8jdBOL",
        "outputId": "b7c3cb92-2a3b-44c1-d608-ad5cffd96e96"
      },
      "execution_count": null,
      "outputs": [
        {
          "output_type": "stream",
          "name": "stdout",
          "text": [
            "masukkan bilangan pertama:7\n",
            "masukkan bilangan kedua9\n",
            "bilangan yang lebih besar adalah : 9\n"
          ]
        }
      ]
    },
    {
      "cell_type": "markdown",
      "source": [
        "if elif else statement flow chart\n"
      ],
      "metadata": {
        "id": "ejkdcRjwgPoB"
      }
    },
    {
      "cell_type": "code",
      "source": [
        "if test expression:\n",
        "  body of if\n",
        "elif test expression :\n",
        "  body of elif\n",
        "else :\n",
        "  body of else"
      ],
      "metadata": {
        "id": "OKD4bfo9gY1O"
      },
      "execution_count": null,
      "outputs": []
    },
    {
      "cell_type": "markdown",
      "source": [],
      "metadata": {
        "id": "AhK7UIldgzV9"
      }
    },
    {
      "cell_type": "code",
      "source": [
        "angka"
      ],
      "metadata": {
        "id": "uw4BE2E0g0Pr"
      },
      "execution_count": null,
      "outputs": []
    },
    {
      "cell_type": "code",
      "source": [
        "#argumen deafult\n",
        "def angka2(a, b, c, d=4):\n",
        "    print(a, b, c, d)\n",
        "\n",
        "    angka2(1, 2, 3, 4)\n",
        "    "
      ],
      "metadata": {
        "id": "JA8ExfwHr3Lt"
      },
      "execution_count": null,
      "outputs": []
    },
    {
      "cell_type": "markdown",
      "source": [
        "praktik membuat fungsi "
      ],
      "metadata": {
        "id": "PHLdmME1sLYA"
      }
    },
    {
      "cell_type": "code",
      "source": [
        "x= 1\n",
        "y= 2\n",
        "x+y"
      ],
      "metadata": {
        "colab": {
          "base_uri": "https://localhost:8080/"
        },
        "id": "xV1TBBkosQ_B",
        "outputId": "72393a80-0e30-4033-a901-28337554e6f3"
      },
      "execution_count": null,
      "outputs": [
        {
          "output_type": "execute_result",
          "data": {
            "text/plain": [
              "3"
            ]
          },
          "metadata": {},
          "execution_count": 1
        }
      ]
    },
    {
      "cell_type": "code",
      "source": [
        "def penjumlahan(x,y): #input\n",
        "  a=x+y               #proses\n",
        "  return a            #output\n",
        "\n",
        "penjumlahan(1,2)    #menggunakan fungsi\n"
      ],
      "metadata": {
        "colab": {
          "base_uri": "https://localhost:8080/"
        },
        "id": "AZY-WeppscDi",
        "outputId": "263b67a9-d36f-42ab-d3f2-ff9497c41941"
      },
      "execution_count": null,
      "outputs": [
        {
          "output_type": "execute_result",
          "data": {
            "text/plain": [
              "3"
            ]
          },
          "metadata": {},
          "execution_count": 4
        }
      ]
    },
    {
      "cell_type": "markdown",
      "source": [
        "penjumlahan yang memungkinkan untuk tiga bilangan "
      ],
      "metadata": {
        "id": "4arzE8DytE_8"
      }
    },
    {
      "cell_type": "code",
      "source": [
        "def penjumlahan(x,y,z=None):\n",
        "    if (z==None):\n",
        "        return x+y\n",
        "    else :\n",
        "        return x+y+z\n",
        "\n",
        "print (penjumlahan (1, 2))\n",
        "print (penjumlahan (1, 2, 3))"
      ],
      "metadata": {
        "colab": {
          "base_uri": "https://localhost:8080/"
        },
        "id": "79U-yvqhtDsx",
        "outputId": "ca14de88-74da-4e9f-8663-dbb5814ee5be"
      },
      "execution_count": null,
      "outputs": [
        {
          "output_type": "stream",
          "name": "stdout",
          "text": [
            "3\n",
            "6\n"
          ]
        }
      ]
    },
    {
      "cell_type": "code",
      "source": [
        "def penjumlahan(x,y):\n",
        "    return x+y\n",
        "a = penjumlahan \n",
        "a(1, 2)"
      ],
      "metadata": {
        "colab": {
          "base_uri": "https://localhost:8080/"
        },
        "id": "9A1N9OIjt_sa",
        "outputId": "da6d5171-336d-4bf6-f443-6cc4e566dcc9"
      },
      "execution_count": null,
      "outputs": [
        {
          "output_type": "execute_result",
          "data": {
            "text/plain": [
              "3"
            ]
          },
          "metadata": {},
          "execution_count": 14
        }
      ]
    },
    {
      "cell_type": "markdown",
      "source": [
        "lambda\n"
      ],
      "metadata": {
        "id": "fr0y6mJ9vLTA"
      }
    },
    {
      "cell_type": "markdown",
      "source": [
        "misalkan kita punya fungsi penjumlahan kuadrat seperti ini "
      ],
      "metadata": {
        "id": "11oLSiRAvoMG"
      }
    },
    {
      "cell_type": "code",
      "source": [
        "def suqare_sum(x,y):\n",
        "  return x**2 + y**2"
      ],
      "metadata": {
        "id": "GiV5oRlxvZqa"
      },
      "execution_count": null,
      "outputs": []
    },
    {
      "cell_type": "markdown",
      "source": [
        "dengan lambda kita tidak perlu menggunakan def dan return bahkan kita juga tidak perlu menuliskan namanya\n"
      ],
      "metadata": {
        "id": "OBZG7OUJvviz"
      }
    },
    {
      "cell_type": "code",
      "source": [
        "lambda x,y :x**2 + y**2"
      ],
      "metadata": {
        "colab": {
          "base_uri": "https://localhost:8080/"
        },
        "id": "UJD5wVDcv7UO",
        "outputId": "1de86d6f-715a-435a-cbf6-930467891416"
      },
      "execution_count": null,
      "outputs": [
        {
          "output_type": "execute_result",
          "data": {
            "text/plain": [
              "<function __main__.<lambda>(x, y)>"
            ]
          },
          "metadata": {},
          "execution_count": 16
        }
      ]
    },
    {
      "cell_type": "markdown",
      "source": [
        "lambda bisa memiliki lebih dari satu argumen atau parameter tapi hanya bisa memiliki satu eskpresi atau isi"
      ],
      "metadata": {
        "id": "w_IoGfw_wzCu"
      }
    },
    {
      "cell_type": "code",
      "source": [
        "greeting = lambda name: print(f\"hello, {name}\")"
      ],
      "metadata": {
        "id": "87yL9wURwmwG"
      },
      "execution_count": null,
      "outputs": []
    },
    {
      "cell_type": "markdown",
      "source": [
        "karena fungsi lambda tidak punya nama, jadi kita butuh variable untuk menyimpanya\n",
        "nanti saat mau kita panggil, kita tinggal tinggal tuliskan saja namanya"
      ],
      "metadata": {
        "id": "B89GCpxWwd3b"
      }
    },
    {
      "cell_type": "code",
      "source": [
        "greeting(\"Dian\")\n",
        "greeting(\"Ayu\")"
      ],
      "metadata": {
        "colab": {
          "base_uri": "https://localhost:8080/"
        },
        "id": "D69fDRJTwk2L",
        "outputId": "0720869e-9a88-46e9-bc0b-eee8085d152b"
      },
      "execution_count": null,
      "outputs": [
        {
          "output_type": "stream",
          "name": "stdout",
          "text": [
            "hello, Dian\n",
            "hello, Ayu\n"
          ]
        }
      ]
    },
    {
      "cell_type": "markdown",
      "source": [
        "beberapa contoh fungsi menggunakan lambda"
      ],
      "metadata": {
        "id": "BB4bBJZJxy2r"
      }
    },
    {
      "cell_type": "code",
      "source": [
        "#fungsi Lambda untuk menambahkan angka 10 kepada argument input\n",
        "f = lambda x: x+10\n",
        "val1 = f(5)\n",
        "val2 = f(100)\n",
        "print(val1, val2)"
      ],
      "metadata": {
        "colab": {
          "base_uri": "https://localhost:8080/"
        },
        "id": "33DIwCdpyFkM",
        "outputId": "df71ca62-f24a-4df1-974f-1cd6f187a4e2"
      },
      "execution_count": null,
      "outputs": [
        {
          "output_type": "stream",
          "name": "stdout",
          "text": [
            "15 110\n"
          ]
        }
      ]
    },
    {
      "cell_type": "code",
      "source": [
        "#fungsi lambda untuk mengalikan dua argumen input dan menampilkan hasilnya\n",
        "f= lambda x,y:x*y\n",
        "val3 = f(2,10)\n",
        "val4 = f(7,5)\n",
        "print(val3,val4)"
      ],
      "metadata": {
        "colab": {
          "base_uri": "https://localhost:8080/"
        },
        "id": "TzXxH533yegQ",
        "outputId": "5eb850e8-67fa-4bb8-bd6c-7bc89b549a45"
      },
      "execution_count": null,
      "outputs": [
        {
          "output_type": "stream",
          "name": "stdout",
          "text": [
            "20 35\n"
          ]
        }
      ]
    },
    {
      "cell_type": "markdown",
      "source": [
        "anonymous function"
      ],
      "metadata": {
        "id": "ZT_KrM0SzB76"
      }
    },
    {
      "cell_type": "code",
      "source": [
        "def say_hello(nama):\n",
        "  print(f\"hello{name}, apa kabar?\")\n",
        "\n",
        "ucapin = say_hello(name)"
      ],
      "metadata": {
        "colab": {
          "base_uri": "https://localhost:8080/",
          "height": 131
        },
        "id": "Dm5DI6wKzGKY",
        "outputId": "54f49727-895a-4182-b7c0-9dee51641943"
      },
      "execution_count": null,
      "outputs": [
        {
          "output_type": "error",
          "ename": "SyntaxError",
          "evalue": "ignored",
          "traceback": [
            "\u001b[0;36m  File \u001b[0;32m\"<ipython-input-24-5fd20bd31cce>\"\u001b[0;36m, line \u001b[0;32m1\u001b[0m\n\u001b[0;31m    def say_hello{nama}:\u001b[0m\n\u001b[0m                 ^\u001b[0m\n\u001b[0;31mSyntaxError\u001b[0m\u001b[0;31m:\u001b[0m invalid syntax\n"
          ]
        }
      ]
    },
    {
      "cell_type": "markdown",
      "source": [
        "eksekusi lamda secara langsung\n",
        "eksekusi lambda secara langsung kelebihan fungsi dibandingkan def adalah bisa kita esksekusi langsung\n",
        "contohnya "
      ],
      "metadata": {
        "id": "C6x8GUjS0XbL"
      }
    },
    {
      "cell_type": "code",
      "source": [
        "(lambda x,y: x**2 + y**2)(4,6)"
      ],
      "metadata": {
        "colab": {
          "base_uri": "https://localhost:8080/"
        },
        "id": "d_H1xB7Z0WSh",
        "outputId": "1e5b09dc-8327-4323-a1d5-784cbdad9e04"
      },
      "execution_count": null,
      "outputs": [
        {
          "output_type": "execute_result",
          "data": {
            "text/plain": [
              "52"
            ]
          },
          "metadata": {},
          "execution_count": 25
        }
      ]
    },
    {
      "cell_type": "markdown",
      "source": [
        "mengapa harus pakai lambda \n",
        "penggunaan fungsi fungsi filter, map, dan reduce membutuhkan lamda karena di fungsi fungsi tersebut membutuhkan parameter fungsi"
      ],
      "metadata": {
        "id": "GuVOEhQ20-oM"
      }
    },
    {
      "cell_type": "code",
      "source": [
        "#memnentukan bilangan genap\n",
        "genap = lambda x: x%2 == 0\n",
        "list(filter(genap, range(11)))"
      ],
      "metadata": {
        "colab": {
          "base_uri": "https://localhost:8080/"
        },
        "id": "K346hgLd14Zo",
        "outputId": "e56ae816-599d-40d5-e07a-4ae066c07e71"
      },
      "execution_count": null,
      "outputs": [
        {
          "output_type": "execute_result",
          "data": {
            "text/plain": [
              "[0, 4, 8]"
            ]
          },
          "metadata": {},
          "execution_count": 31
        }
      ]
    },
    {
      "cell_type": "code",
      "source": [
        "#memnentukan bilangan ganjil\n",
        "ganjil = lambda x: x%2 == 1\n",
        "list(filter(ganjil, range(11)))"
      ],
      "metadata": {
        "colab": {
          "base_uri": "https://localhost:8080/"
        },
        "id": "87Vv7MDK2IZG",
        "outputId": "b26ec75e-7e25-40dd-f4b2-d5c96b3d11ea"
      },
      "execution_count": null,
      "outputs": [
        {
          "output_type": "execute_result",
          "data": {
            "text/plain": [
              "[1, 3, 5, 7, 9]"
            ]
          },
          "metadata": {},
          "execution_count": 34
        }
      ]
    }
  ]
}